{
  "nbformat": 4,
  "nbformat_minor": 0,
  "metadata": {
    "colab": {
      "provenance": [],
      "collapsed_sections": [
        "JqWfkNsmYe05",
        "AmzBxfNeYN8r",
        "HxcuAafoYq_z",
        "vjvopgz1j6ZT"
      ],
      "toc_visible": true
    },
    "kernelspec": {
      "name": "python3",
      "display_name": "Python 3"
    },
    "language_info": {
      "name": "python"
    }
  },
  "cells": [
    {
      "cell_type": "markdown",
      "source": [
        "#Importing"
      ],
      "metadata": {
        "id": "lFG_ScqRYZf1"
      }
    },
    {
      "cell_type": "code",
      "source": [
        "!pip install category_encoders"
      ],
      "metadata": {
        "id": "r1uKWyJJJ59e",
        "colab": {
          "base_uri": "https://localhost:8080/"
        },
        "outputId": "e392bc3e-c474-4361-a09b-b5798c6589bf"
      },
      "execution_count": 1,
      "outputs": [
        {
          "output_type": "stream",
          "name": "stdout",
          "text": [
            "Looking in indexes: https://pypi.org/simple, https://us-python.pkg.dev/colab-wheels/public/simple/\n",
            "Requirement already satisfied: category_encoders in /usr/local/lib/python3.7/dist-packages (2.5.0)\n",
            "Requirement already satisfied: patsy>=0.5.1 in /usr/local/lib/python3.7/dist-packages (from category_encoders) (0.5.2)\n",
            "Requirement already satisfied: numpy>=1.14.0 in /usr/local/lib/python3.7/dist-packages (from category_encoders) (1.21.6)\n",
            "Requirement already satisfied: pandas>=1.0.5 in /usr/local/lib/python3.7/dist-packages (from category_encoders) (1.3.5)\n",
            "Requirement already satisfied: scikit-learn>=0.20.0 in /usr/local/lib/python3.7/dist-packages (from category_encoders) (1.0.2)\n",
            "Requirement already satisfied: scipy>=1.0.0 in /usr/local/lib/python3.7/dist-packages (from category_encoders) (1.7.3)\n",
            "Requirement already satisfied: statsmodels>=0.9.0 in /usr/local/lib/python3.7/dist-packages (from category_encoders) (0.13.2)\n",
            "Requirement already satisfied: pytz>=2017.3 in /usr/local/lib/python3.7/dist-packages (from pandas>=1.0.5->category_encoders) (2022.2.1)\n",
            "Requirement already satisfied: python-dateutil>=2.7.3 in /usr/local/lib/python3.7/dist-packages (from pandas>=1.0.5->category_encoders) (2.8.2)\n",
            "Requirement already satisfied: six in /usr/local/lib/python3.7/dist-packages (from patsy>=0.5.1->category_encoders) (1.15.0)\n",
            "Requirement already satisfied: joblib>=0.11 in /usr/local/lib/python3.7/dist-packages (from scikit-learn>=0.20.0->category_encoders) (1.2.0)\n",
            "Requirement already satisfied: threadpoolctl>=2.0.0 in /usr/local/lib/python3.7/dist-packages (from scikit-learn>=0.20.0->category_encoders) (3.1.0)\n",
            "Requirement already satisfied: packaging>=21.3 in /usr/local/lib/python3.7/dist-packages (from statsmodels>=0.9.0->category_encoders) (21.3)\n",
            "Requirement already satisfied: pyparsing!=3.0.5,>=2.0.2 in /usr/local/lib/python3.7/dist-packages (from packaging>=21.3->statsmodels>=0.9.0->category_encoders) (3.0.9)\n"
          ]
        }
      ]
    },
    {
      "cell_type": "code",
      "source": [
        "!pip3 install pandas-profiling"
      ],
      "metadata": {
        "id": "fy2vnVfEJoWY",
        "colab": {
          "base_uri": "https://localhost:8080/"
        },
        "outputId": "98b6e375-84c5-4a12-ae1b-b3b64696a08e"
      },
      "execution_count": 2,
      "outputs": [
        {
          "output_type": "stream",
          "name": "stdout",
          "text": [
            "Looking in indexes: https://pypi.org/simple, https://us-python.pkg.dev/colab-wheels/public/simple/\n",
            "Requirement already satisfied: pandas-profiling in /usr/local/lib/python3.7/dist-packages (3.3.1)\n",
            "Requirement already satisfied: scipy<1.10,>=1.4.1 in /usr/local/lib/python3.7/dist-packages (from pandas-profiling) (1.7.3)\n",
            "Requirement already satisfied: htmlmin==0.1.12 in /usr/local/lib/python3.7/dist-packages (from pandas-profiling) (0.1.12)\n",
            "Requirement already satisfied: matplotlib<3.6,>=3.2 in /usr/local/lib/python3.7/dist-packages (from pandas-profiling) (3.2.2)\n",
            "Requirement already satisfied: PyYAML<6.1,>=5.0.0 in /usr/local/lib/python3.7/dist-packages (from pandas-profiling) (6.0)\n",
            "Requirement already satisfied: tangled-up-in-unicode==0.2.0 in /usr/local/lib/python3.7/dist-packages (from pandas-profiling) (0.2.0)\n",
            "Requirement already satisfied: tqdm<4.65,>=4.48.2 in /usr/local/lib/python3.7/dist-packages (from pandas-profiling) (4.64.1)\n",
            "Requirement already satisfied: pandas!=1.4.0,<1.5,>1.1 in /usr/local/lib/python3.7/dist-packages (from pandas-profiling) (1.3.5)\n",
            "Requirement already satisfied: jinja2<3.2,>=2.11.1 in /usr/local/lib/python3.7/dist-packages (from pandas-profiling) (2.11.3)\n",
            "Requirement already satisfied: numpy<1.24,>=1.16.0 in /usr/local/lib/python3.7/dist-packages (from pandas-profiling) (1.21.6)\n",
            "Requirement already satisfied: joblib~=1.2.0 in /usr/local/lib/python3.7/dist-packages (from pandas-profiling) (1.2.0)\n",
            "Requirement already satisfied: visions[type_image_path]==0.7.5 in /usr/local/lib/python3.7/dist-packages (from pandas-profiling) (0.7.5)\n",
            "Requirement already satisfied: seaborn<0.13,>=0.10.1 in /usr/local/lib/python3.7/dist-packages (from pandas-profiling) (0.11.2)\n",
            "Requirement already satisfied: missingno<0.6,>=0.4.2 in /usr/local/lib/python3.7/dist-packages (from pandas-profiling) (0.5.1)\n",
            "Requirement already satisfied: multimethod<1.9,>=1.4 in /usr/local/lib/python3.7/dist-packages (from pandas-profiling) (1.8)\n",
            "Requirement already satisfied: phik<0.13,>=0.11.1 in /usr/local/lib/python3.7/dist-packages (from pandas-profiling) (0.12.2)\n",
            "Requirement already satisfied: pydantic<1.11,>=1.8.1 in /usr/local/lib/python3.7/dist-packages (from pandas-profiling) (1.9.2)\n",
            "Requirement already satisfied: requests<2.29,>=2.24.0 in /usr/local/lib/python3.7/dist-packages (from pandas-profiling) (2.28.1)\n",
            "Requirement already satisfied: statsmodels<0.14,>=0.13.2 in /usr/local/lib/python3.7/dist-packages (from pandas-profiling) (0.13.2)\n",
            "Requirement already satisfied: networkx>=2.4 in /usr/local/lib/python3.7/dist-packages (from visions[type_image_path]==0.7.5->pandas-profiling) (2.6.3)\n",
            "Requirement already satisfied: attrs>=19.3.0 in /usr/local/lib/python3.7/dist-packages (from visions[type_image_path]==0.7.5->pandas-profiling) (22.1.0)\n",
            "Requirement already satisfied: imagehash in /usr/local/lib/python3.7/dist-packages (from visions[type_image_path]==0.7.5->pandas-profiling) (4.3.1)\n",
            "Requirement already satisfied: Pillow in /usr/local/lib/python3.7/dist-packages (from visions[type_image_path]==0.7.5->pandas-profiling) (7.1.2)\n",
            "Requirement already satisfied: MarkupSafe>=0.23 in /usr/local/lib/python3.7/dist-packages (from jinja2<3.2,>=2.11.1->pandas-profiling) (2.0.1)\n",
            "Requirement already satisfied: pyparsing!=2.0.4,!=2.1.2,!=2.1.6,>=2.0.1 in /usr/local/lib/python3.7/dist-packages (from matplotlib<3.6,>=3.2->pandas-profiling) (3.0.9)\n",
            "Requirement already satisfied: python-dateutil>=2.1 in /usr/local/lib/python3.7/dist-packages (from matplotlib<3.6,>=3.2->pandas-profiling) (2.8.2)\n",
            "Requirement already satisfied: cycler>=0.10 in /usr/local/lib/python3.7/dist-packages (from matplotlib<3.6,>=3.2->pandas-profiling) (0.11.0)\n",
            "Requirement already satisfied: kiwisolver>=1.0.1 in /usr/local/lib/python3.7/dist-packages (from matplotlib<3.6,>=3.2->pandas-profiling) (1.4.4)\n",
            "Requirement already satisfied: typing-extensions in /usr/local/lib/python3.7/dist-packages (from kiwisolver>=1.0.1->matplotlib<3.6,>=3.2->pandas-profiling) (4.1.1)\n",
            "Requirement already satisfied: pytz>=2017.3 in /usr/local/lib/python3.7/dist-packages (from pandas!=1.4.0,<1.5,>1.1->pandas-profiling) (2022.2.1)\n",
            "Requirement already satisfied: six>=1.5 in /usr/local/lib/python3.7/dist-packages (from python-dateutil>=2.1->matplotlib<3.6,>=3.2->pandas-profiling) (1.15.0)\n",
            "Requirement already satisfied: urllib3<1.27,>=1.21.1 in /usr/local/lib/python3.7/dist-packages (from requests<2.29,>=2.24.0->pandas-profiling) (1.24.3)\n",
            "Requirement already satisfied: idna<4,>=2.5 in /usr/local/lib/python3.7/dist-packages (from requests<2.29,>=2.24.0->pandas-profiling) (2.10)\n",
            "Requirement already satisfied: certifi>=2017.4.17 in /usr/local/lib/python3.7/dist-packages (from requests<2.29,>=2.24.0->pandas-profiling) (2022.6.15)\n",
            "Requirement already satisfied: charset-normalizer<3,>=2 in /usr/local/lib/python3.7/dist-packages (from requests<2.29,>=2.24.0->pandas-profiling) (2.1.1)\n",
            "Requirement already satisfied: patsy>=0.5.2 in /usr/local/lib/python3.7/dist-packages (from statsmodels<0.14,>=0.13.2->pandas-profiling) (0.5.2)\n",
            "Requirement already satisfied: packaging>=21.3 in /usr/local/lib/python3.7/dist-packages (from statsmodels<0.14,>=0.13.2->pandas-profiling) (21.3)\n",
            "Requirement already satisfied: PyWavelets in /usr/local/lib/python3.7/dist-packages (from imagehash->visions[type_image_path]==0.7.5->pandas-profiling) (1.3.0)\n"
          ]
        }
      ]
    },
    {
      "cell_type": "code",
      "source": [
        "!pip install https://github.com/pandas-profiling/pandas-profiling/archive/master.zip\n",
        "!pip install markupsafe==2.0.1"
      ],
      "metadata": {
        "id": "JzCH1LY0M3m4",
        "colab": {
          "base_uri": "https://localhost:8080/"
        },
        "outputId": "5856389c-850c-48bb-89af-bf72f6dc4fe9"
      },
      "execution_count": 3,
      "outputs": [
        {
          "output_type": "stream",
          "name": "stdout",
          "text": [
            "Looking in indexes: https://pypi.org/simple, https://us-python.pkg.dev/colab-wheels/public/simple/\n",
            "Collecting https://github.com/pandas-profiling/pandas-profiling/archive/master.zip\n",
            "  Using cached https://github.com/pandas-profiling/pandas-profiling/archive/master.zip\n",
            "Requirement already satisfied: joblib~=1.2.0 in /usr/local/lib/python3.7/dist-packages (from pandas-profiling==3.3.1) (1.2.0)\n",
            "Requirement already satisfied: scipy<1.10,>=1.4.1 in /usr/local/lib/python3.7/dist-packages (from pandas-profiling==3.3.1) (1.7.3)\n",
            "Requirement already satisfied: pandas!=1.4.0,<1.5,>1.1 in /usr/local/lib/python3.7/dist-packages (from pandas-profiling==3.3.1) (1.3.5)\n",
            "Requirement already satisfied: matplotlib<3.6,>=3.2 in /usr/local/lib/python3.7/dist-packages (from pandas-profiling==3.3.1) (3.2.2)\n",
            "Requirement already satisfied: pydantic<1.11,>=1.8.1 in /usr/local/lib/python3.7/dist-packages (from pandas-profiling==3.3.1) (1.9.2)\n",
            "Requirement already satisfied: PyYAML<6.1,>=5.0.0 in /usr/local/lib/python3.7/dist-packages (from pandas-profiling==3.3.1) (6.0)\n",
            "Requirement already satisfied: jinja2<3.2,>=2.11.1 in /usr/local/lib/python3.7/dist-packages (from pandas-profiling==3.3.1) (2.11.3)\n",
            "Requirement already satisfied: visions[type_image_path]==0.7.5 in /usr/local/lib/python3.7/dist-packages (from pandas-profiling==3.3.1) (0.7.5)\n",
            "Requirement already satisfied: numpy<1.24,>=1.16.0 in /usr/local/lib/python3.7/dist-packages (from pandas-profiling==3.3.1) (1.21.6)\n",
            "Requirement already satisfied: htmlmin==0.1.12 in /usr/local/lib/python3.7/dist-packages (from pandas-profiling==3.3.1) (0.1.12)\n",
            "Requirement already satisfied: missingno<0.6,>=0.4.2 in /usr/local/lib/python3.7/dist-packages (from pandas-profiling==3.3.1) (0.5.1)\n",
            "Requirement already satisfied: phik<0.13,>=0.11.1 in /usr/local/lib/python3.7/dist-packages (from pandas-profiling==3.3.1) (0.12.2)\n",
            "Requirement already satisfied: tangled-up-in-unicode==0.2.0 in /usr/local/lib/python3.7/dist-packages (from pandas-profiling==3.3.1) (0.2.0)\n",
            "Requirement already satisfied: requests<2.29,>=2.24.0 in /usr/local/lib/python3.7/dist-packages (from pandas-profiling==3.3.1) (2.28.1)\n",
            "Requirement already satisfied: tqdm<4.65,>=4.48.2 in /usr/local/lib/python3.7/dist-packages (from pandas-profiling==3.3.1) (4.64.1)\n",
            "Requirement already satisfied: seaborn<0.13,>=0.10.1 in /usr/local/lib/python3.7/dist-packages (from pandas-profiling==3.3.1) (0.11.2)\n",
            "Requirement already satisfied: multimethod<1.9,>=1.4 in /usr/local/lib/python3.7/dist-packages (from pandas-profiling==3.3.1) (1.8)\n",
            "Requirement already satisfied: statsmodels<0.14,>=0.13.2 in /usr/local/lib/python3.7/dist-packages (from pandas-profiling==3.3.1) (0.13.2)\n",
            "Requirement already satisfied: attrs>=19.3.0 in /usr/local/lib/python3.7/dist-packages (from visions[type_image_path]==0.7.5->pandas-profiling==3.3.1) (22.1.0)\n",
            "Requirement already satisfied: networkx>=2.4 in /usr/local/lib/python3.7/dist-packages (from visions[type_image_path]==0.7.5->pandas-profiling==3.3.1) (2.6.3)\n",
            "Requirement already satisfied: imagehash in /usr/local/lib/python3.7/dist-packages (from visions[type_image_path]==0.7.5->pandas-profiling==3.3.1) (4.3.1)\n",
            "Requirement already satisfied: Pillow in /usr/local/lib/python3.7/dist-packages (from visions[type_image_path]==0.7.5->pandas-profiling==3.3.1) (7.1.2)\n",
            "Requirement already satisfied: MarkupSafe>=0.23 in /usr/local/lib/python3.7/dist-packages (from jinja2<3.2,>=2.11.1->pandas-profiling==3.3.1) (2.0.1)\n",
            "Requirement already satisfied: pyparsing!=2.0.4,!=2.1.2,!=2.1.6,>=2.0.1 in /usr/local/lib/python3.7/dist-packages (from matplotlib<3.6,>=3.2->pandas-profiling==3.3.1) (3.0.9)\n",
            "Requirement already satisfied: cycler>=0.10 in /usr/local/lib/python3.7/dist-packages (from matplotlib<3.6,>=3.2->pandas-profiling==3.3.1) (0.11.0)\n",
            "Requirement already satisfied: python-dateutil>=2.1 in /usr/local/lib/python3.7/dist-packages (from matplotlib<3.6,>=3.2->pandas-profiling==3.3.1) (2.8.2)\n",
            "Requirement already satisfied: kiwisolver>=1.0.1 in /usr/local/lib/python3.7/dist-packages (from matplotlib<3.6,>=3.2->pandas-profiling==3.3.1) (1.4.4)\n",
            "Requirement already satisfied: typing-extensions in /usr/local/lib/python3.7/dist-packages (from kiwisolver>=1.0.1->matplotlib<3.6,>=3.2->pandas-profiling==3.3.1) (4.1.1)\n",
            "Requirement already satisfied: pytz>=2017.3 in /usr/local/lib/python3.7/dist-packages (from pandas!=1.4.0,<1.5,>1.1->pandas-profiling==3.3.1) (2022.2.1)\n",
            "Requirement already satisfied: six>=1.5 in /usr/local/lib/python3.7/dist-packages (from python-dateutil>=2.1->matplotlib<3.6,>=3.2->pandas-profiling==3.3.1) (1.15.0)\n",
            "Requirement already satisfied: certifi>=2017.4.17 in /usr/local/lib/python3.7/dist-packages (from requests<2.29,>=2.24.0->pandas-profiling==3.3.1) (2022.6.15)\n",
            "Requirement already satisfied: idna<4,>=2.5 in /usr/local/lib/python3.7/dist-packages (from requests<2.29,>=2.24.0->pandas-profiling==3.3.1) (2.10)\n",
            "Requirement already satisfied: urllib3<1.27,>=1.21.1 in /usr/local/lib/python3.7/dist-packages (from requests<2.29,>=2.24.0->pandas-profiling==3.3.1) (1.24.3)\n",
            "Requirement already satisfied: charset-normalizer<3,>=2 in /usr/local/lib/python3.7/dist-packages (from requests<2.29,>=2.24.0->pandas-profiling==3.3.1) (2.1.1)\n",
            "Requirement already satisfied: patsy>=0.5.2 in /usr/local/lib/python3.7/dist-packages (from statsmodels<0.14,>=0.13.2->pandas-profiling==3.3.1) (0.5.2)\n",
            "Requirement already satisfied: packaging>=21.3 in /usr/local/lib/python3.7/dist-packages (from statsmodels<0.14,>=0.13.2->pandas-profiling==3.3.1) (21.3)\n",
            "Requirement already satisfied: PyWavelets in /usr/local/lib/python3.7/dist-packages (from imagehash->visions[type_image_path]==0.7.5->pandas-profiling==3.3.1) (1.3.0)\n",
            "Looking in indexes: https://pypi.org/simple, https://us-python.pkg.dev/colab-wheels/public/simple/\n",
            "Requirement already satisfied: markupsafe==2.0.1 in /usr/local/lib/python3.7/dist-packages (2.0.1)\n"
          ]
        }
      ]
    },
    {
      "cell_type": "code",
      "source": [
        "import numpy as np\n",
        "import pandas as pd\n",
        "import matplotlib.pyplot as plt\n",
        "%matplotlib inline\n",
        "from IPython.display import display, HTML\n",
        "display()\n",
        "from google.colab import drive\n",
        "drive.mount('/content/gdrive')\n",
        "from pandas_profiling import ProfileReport\n",
        "from sklearn.impute import SimpleImputer\n",
        "from category_encoders import OneHotEncoder\n",
        "from sklearn.preprocessing import MinMaxScaler, PolynomialFeatures\n",
        "from sklearn.model_selection import train_test_split\n",
        "from sklearn.linear_model import LogisticRegression, LinearRegression, Lasso, Ridge\n",
        "from sklearn import metrics\n",
        "from sklearn.pipeline import Pipeline\n",
        "from sklearn.model_selection import cross_val_score\n",
        "from sklearn.svm import SVC, SVR"
      ],
      "metadata": {
        "colab": {
          "base_uri": "https://localhost:8080/"
        },
        "id": "loqD2f6zJXbR",
        "outputId": "2a7911e8-230b-4926-960c-2aefe09c5e28"
      },
      "execution_count": 4,
      "outputs": [
        {
          "output_type": "stream",
          "name": "stdout",
          "text": [
            "Drive already mounted at /content/gdrive; to attempt to forcibly remount, call drive.mount(\"/content/gdrive\", force_remount=True).\n"
          ]
        }
      ]
    },
    {
      "cell_type": "markdown",
      "source": [
        "#Reading data"
      ],
      "metadata": {
        "id": "JqWfkNsmYe05"
      }
    },
    {
      "cell_type": "code",
      "source": [
        "train_reg_df = pd.read_csv('/content/gdrive/MyDrive/Colab Notebooks/ML_Assignments_Data/1st_Assignment/bitrate_prediction_Reg/bitrate_train.csv')\n",
        "test_reg_df = pd.read_csv('/content/gdrive/MyDrive/Colab Notebooks/ML_Assignments_Data/1st_Assignment/bitrate_prediction_Reg/bitrate_test.csv')\n",
        "train_class_df = pd.read_csv('/content/gdrive/MyDrive/Colab Notebooks/ML_Assignments_Data/1st_Assignment/stream_quality_data_Class/train_data.csv')\n",
        "test_class_df = pd.read_csv('/content/gdrive/MyDrive/Colab Notebooks/ML_Assignments_Data/1st_Assignment/stream_quality_data_Class/test_data.csv')"
      ],
      "metadata": {
        "id": "y21DVbyeKUX5"
      },
      "execution_count": 5,
      "outputs": []
    },
    {
      "cell_type": "code",
      "source": [
        "train_reg_df.columns==test_reg_df.columns"
      ],
      "metadata": {
        "colab": {
          "base_uri": "https://localhost:8080/"
        },
        "id": "oXIFw8YNKqYp",
        "outputId": "fec2394b-beba-48ac-ce28-af7da9386993"
      },
      "execution_count": 6,
      "outputs": [
        {
          "output_type": "execute_result",
          "data": {
            "text/plain": [
              "array([ True,  True,  True,  True,  True,  True,  True,  True,  True,\n",
              "        True])"
            ]
          },
          "metadata": {},
          "execution_count": 6
        }
      ]
    },
    {
      "cell_type": "code",
      "source": [
        "test_class_df.columns==train_class_df.columns"
      ],
      "metadata": {
        "colab": {
          "base_uri": "https://localhost:8080/"
        },
        "id": "EJVSxkqTL-PW",
        "outputId": "190f950b-a81b-4d89-9b90-e2c6ab1bbdd4"
      },
      "execution_count": 7,
      "outputs": [
        {
          "output_type": "execute_result",
          "data": {
            "text/plain": [
              "array([ True,  True,  True,  True,  True,  True,  True,  True,  True,\n",
              "        True,  True,  True])"
            ]
          },
          "metadata": {},
          "execution_count": 7
        }
      ]
    },
    {
      "cell_type": "markdown",
      "source": [
        "#Profiling"
      ],
      "metadata": {
        "id": "AmzBxfNeYN8r"
      }
    },
    {
      "cell_type": "code",
      "source": [
        "#report = ProfileReport(train_reg_df)\n",
        "#report"
      ],
      "metadata": {
        "id": "U1SkaqM2MLNw"
      },
      "execution_count": 8,
      "outputs": []
    },
    {
      "cell_type": "code",
      "source": [
        "#report = ProfileReport(test_reg_df)\n",
        "#report"
      ],
      "metadata": {
        "id": "zc1QFki1PCUG"
      },
      "execution_count": 9,
      "outputs": []
    },
    {
      "cell_type": "code",
      "source": [
        "# Drop these columns because they are hints for prediction\n",
        "train_reg_df = train_reg_df.drop(columns=['bitrate_std', 'bitrate_mean'], axis=1)\n",
        "test_reg_df = test_reg_df.drop(columns=['bitrate_std', 'bitrate_mean'], axis=1)\n",
        "# Drop these columns because they have more than 97% zeros in both train and test datasets\n",
        "train_reg_df = train_reg_df.drop(columns=['dropped_frames_mean', 'dropped_frames_std', 'dropped_frames_max'], axis=1)\n",
        "test_reg_df = test_reg_df.drop(columns=['dropped_frames_mean', 'dropped_frames_std', 'dropped_frames_max'], axis=1)\n"
      ],
      "metadata": {
        "id": "gawg55QFOZ_D"
      },
      "execution_count": 10,
      "outputs": []
    },
    {
      "cell_type": "code",
      "source": [
        "#report = ProfileReport(train_class_df)\n",
        "#report"
      ],
      "metadata": {
        "id": "xy42ZurNProP"
      },
      "execution_count": 11,
      "outputs": []
    },
    {
      "cell_type": "code",
      "source": [
        "#report = ProfileReport(test_class_df)\n",
        "#report"
      ],
      "metadata": {
        "id": "Eu0qJ1F6WMws"
      },
      "execution_count": 12,
      "outputs": []
    },
    {
      "cell_type": "code",
      "source": [
        "# Drop these columns because they have more than 90% zeros in both train and test datasets\n",
        "train_class_df = train_class_df.drop(columns=['dropped_frames_mean', 'dropped_frames_std', 'dropped_frames_max', 'fps_lags'], axis=1)\n",
        "test_class_df = test_class_df.drop(columns=['dropped_frames_mean', 'dropped_frames_std', 'dropped_frames_max', 'fps_lags'], axis=1)\n"
      ],
      "metadata": {
        "id": "Baxali2PXIiJ"
      },
      "execution_count": 13,
      "outputs": []
    },
    {
      "cell_type": "code",
      "source": [
        "plt.figure(figsize=(9, 6))\n",
        "plt.scatter(train_reg_df['rtt_mean'], train_reg_df['target'])\n",
        "plt.xlabel('rtt_mean')\n",
        "plt.ylabel('Target')\n",
        "plt.tight_layout()\n",
        "plt.show()"
      ],
      "metadata": {
        "colab": {
          "base_uri": "https://localhost:8080/",
          "height": 0
        },
        "id": "ZDGQaBrlBIdd",
        "outputId": "d9b36645-aeb1-4b23-b195-f3cc0070477e"
      },
      "execution_count": 14,
      "outputs": [
        {
          "output_type": "display_data",
          "data": {
            "text/plain": [
              "<Figure size 648x432 with 1 Axes>"
            ],
            "image/png": "[encoded data removed]"
          },
          "metadata": {
            "needs_background": "light"
          }
        }
      ]
    },
    {
      "cell_type": "markdown",
      "source": [
        "#Encoding"
      ],
      "metadata": {
        "id": "HxcuAafoYq_z"
      }
    },
    {
      "cell_type": "code",
      "source": [
        "train_reg_df.dtypes"
      ],
      "metadata": {
        "colab": {
          "base_uri": "https://localhost:8080/"
        },
        "id": "gWYLn6IqaHvs",
        "outputId": "608d0801-695c-4916-a071-f45395e99973"
      },
      "execution_count": 15,
      "outputs": [
        {
          "output_type": "execute_result",
          "data": {
            "text/plain": [
              "fps_mean    float64\n",
              "fps_std     float64\n",
              "rtt_mean    float64\n",
              "rtt_std     float64\n",
              "target      float64\n",
              "dtype: object"
            ]
          },
          "metadata": {},
          "execution_count": 15
        }
      ]
    },
    {
      "cell_type": "code",
      "source": [
        "test_reg_df.dtypes"
      ],
      "metadata": {
        "colab": {
          "base_uri": "https://localhost:8080/"
        },
        "id": "0lvyQOI9aqgU",
        "outputId": "1ae098a0-a92b-4eb6-a184-d30c1fc9e50b"
      },
      "execution_count": 16,
      "outputs": [
        {
          "output_type": "execute_result",
          "data": {
            "text/plain": [
              "fps_mean    float64\n",
              "fps_std     float64\n",
              "rtt_mean    float64\n",
              "rtt_std     float64\n",
              "target      float64\n",
              "dtype: object"
            ]
          },
          "metadata": {},
          "execution_count": 16
        }
      ]
    },
    {
      "cell_type": "code",
      "source": [
        "train_class_df.dtypes"
      ],
      "metadata": {
        "colab": {
          "base_uri": "https://localhost:8080/"
        },
        "id": "ltADpQLYatXs",
        "outputId": "7ab8af5b-69f7-4fb3-8bf2-c4899121f5a6"
      },
      "execution_count": 17,
      "outputs": [
        {
          "output_type": "execute_result",
          "data": {
            "text/plain": [
              "fps_mean              float64\n",
              "fps_std               float64\n",
              "rtt_mean              float64\n",
              "rtt_std               float64\n",
              "auto_bitrate_state     object\n",
              "auto_fec_state         object\n",
              "auto_fec_mean         float64\n",
              "stream_quality          int64\n",
              "dtype: object"
            ]
          },
          "metadata": {},
          "execution_count": 17
        }
      ]
    },
    {
      "cell_type": "code",
      "source": [
        "test_class_df.dtypes"
      ],
      "metadata": {
        "colab": {
          "base_uri": "https://localhost:8080/"
        },
        "id": "ZMY6XzgPa_cl",
        "outputId": "8fe42562-db32-4f32-8126-103cbed859d5"
      },
      "execution_count": 18,
      "outputs": [
        {
          "output_type": "execute_result",
          "data": {
            "text/plain": [
              "fps_mean              float64\n",
              "fps_std               float64\n",
              "rtt_mean              float64\n",
              "rtt_std               float64\n",
              "auto_bitrate_state     object\n",
              "auto_fec_state         object\n",
              "auto_fec_mean         float64\n",
              "stream_quality          int64\n",
              "dtype: object"
            ]
          },
          "metadata": {},
          "execution_count": 18
        }
      ]
    },
    {
      "cell_type": "code",
      "source": [
        "# Lets encode object columns. In regression there arent any, but classification has.\n",
        "obj_col = train_class_df.select_dtypes(include=['object']).columns.tolist()\n",
        "encoder = OneHotEncoder(obj_col, handle_unknown='ignore')\n",
        "encoder.fit(train_class_df)\n",
        "test_class_encoded = encoder.transform(test_class_df)\n",
        "train_class_encoded = encoder.transform(train_class_df)"
      ],
      "metadata": {
        "id": "FDBaoZ6TbCRE"
      },
      "execution_count": 19,
      "outputs": []
    },
    {
      "cell_type": "code",
      "source": [
        "class_cols = train_class_encoded.columns\n",
        "reg_cols = train_reg_df.columns"
      ],
      "metadata": {
        "id": "JxvNoSF-3NtO"
      },
      "execution_count": 20,
      "outputs": []
    },
    {
      "cell_type": "markdown",
      "source": [
        "#Imputing"
      ],
      "metadata": {
        "id": "vjvopgz1j6ZT"
      }
    },
    {
      "cell_type": "code",
      "source": [
        "test_reg_df.isna().sum()"
      ],
      "metadata": {
        "colab": {
          "base_uri": "https://localhost:8080/"
        },
        "id": "RBlGgQWehXFq",
        "outputId": "7fd9ae5a-f736-4ef2-ad34-27aa8fcf3ed3"
      },
      "execution_count": 21,
      "outputs": [
        {
          "output_type": "execute_result",
          "data": {
            "text/plain": [
              "fps_mean    0\n",
              "fps_std     0\n",
              "rtt_mean    0\n",
              "rtt_std     0\n",
              "target      0\n",
              "dtype: int64"
            ]
          },
          "metadata": {},
          "execution_count": 21
        }
      ]
    },
    {
      "cell_type": "code",
      "source": [
        "train_reg_df.isna().sum()"
      ],
      "metadata": {
        "colab": {
          "base_uri": "https://localhost:8080/"
        },
        "id": "rQyjWS-8j_ph",
        "outputId": "1350bd83-33cb-4753-f860-d6dc3118800a"
      },
      "execution_count": 22,
      "outputs": [
        {
          "output_type": "execute_result",
          "data": {
            "text/plain": [
              "fps_mean    0\n",
              "fps_std     0\n",
              "rtt_mean    0\n",
              "rtt_std     0\n",
              "target      0\n",
              "dtype: int64"
            ]
          },
          "metadata": {},
          "execution_count": 22
        }
      ]
    },
    {
      "cell_type": "code",
      "source": [
        "test_class_df.isna().sum()"
      ],
      "metadata": {
        "colab": {
          "base_uri": "https://localhost:8080/"
        },
        "id": "zmTm5yqxj_eD",
        "outputId": "de81e11d-fec5-4a8a-9631-1a4d1d6a5e80"
      },
      "execution_count": 23,
      "outputs": [
        {
          "output_type": "execute_result",
          "data": {
            "text/plain": [
              "fps_mean              0\n",
              "fps_std               0\n",
              "rtt_mean              0\n",
              "rtt_std               0\n",
              "auto_bitrate_state    0\n",
              "auto_fec_state        0\n",
              "auto_fec_mean         0\n",
              "stream_quality        0\n",
              "dtype: int64"
            ]
          },
          "metadata": {},
          "execution_count": 23
        }
      ]
    },
    {
      "cell_type": "code",
      "source": [
        "train_class_df.isna().sum()"
      ],
      "metadata": {
        "colab": {
          "base_uri": "https://localhost:8080/"
        },
        "id": "e_eMv0nyj_TL",
        "outputId": "1d887488-f49e-412e-ee33-c74e626772f7"
      },
      "execution_count": 24,
      "outputs": [
        {
          "output_type": "execute_result",
          "data": {
            "text/plain": [
              "fps_mean              0\n",
              "fps_std               0\n",
              "rtt_mean              0\n",
              "rtt_std               0\n",
              "auto_bitrate_state    0\n",
              "auto_fec_state        0\n",
              "auto_fec_mean         0\n",
              "stream_quality        0\n",
              "dtype: int64"
            ]
          },
          "metadata": {},
          "execution_count": 24
        }
      ]
    },
    {
      "cell_type": "markdown",
      "source": [
        "We have no NaN values in our datasets"
      ],
      "metadata": {
        "id": "tCbRC0EHkIMp"
      }
    },
    {
      "cell_type": "markdown",
      "source": [
        "#Splitting"
      ],
      "metadata": {
        "id": "CasC_ps9Y4kF"
      }
    },
    {
      "cell_type": "code",
      "source": [
        "train_reg_Y = train_reg_df['target']\n",
        "train_reg_X = train_reg_df.drop('target', axis=1)\n",
        "test_reg_Y = test_reg_df['target']\n",
        "test_reg_X = test_reg_df.drop('target', axis=1)\n",
        "reg_cols = train_reg_X.columns\n",
        "\n",
        "train_class_Y = train_class_encoded['stream_quality']\n",
        "train_class_X = train_class_encoded.drop('stream_quality', axis=1)\n",
        "test_class_Y = test_class_encoded['stream_quality']\n",
        "test_class_X = test_class_encoded.drop('stream_quality', axis=1)\n",
        "class_cols = train_class_X.columns"
      ],
      "metadata": {
        "id": "4pSZqcJAmCTt"
      },
      "execution_count": 25,
      "outputs": []
    },
    {
      "cell_type": "markdown",
      "source": [
        "#Scaling"
      ],
      "metadata": {
        "id": "0pBYuXTJkVVF"
      }
    },
    {
      "cell_type": "code",
      "source": [
        "from sklearn.preprocessing import MinMaxScaler\n",
        "\n",
        "scaler = MinMaxScaler(feature_range=(0, 1))\n",
        "\n",
        "fit_reg = scaler.fit(train_reg_X)\n",
        "\n",
        "train_reg_X = pd.DataFrame(scaler.transform(train_reg_X), columns=reg_cols)\n",
        "test_reg_X = pd.DataFrame(scaler.transform(test_reg_X), columns=reg_cols)\n",
        "\n",
        "fit_class = scaler.fit(train_class_X)\n",
        "\n",
        "train_class_X = pd.DataFrame(scaler.transform(train_class_X), columns=class_cols)\n",
        "test_class_X = pd.DataFrame(scaler.transform(test_class_X), columns=class_cols)"
      ],
      "metadata": {
        "id": "gQXi4QiBkXik"
      },
      "execution_count": 26,
      "outputs": []
    },
    {
      "cell_type": "markdown",
      "source": [
        "#Learning 1"
      ],
      "metadata": {
        "id": "IuM0q3xVZWbT"
      }
    },
    {
      "cell_type": "code",
      "source": [
        "from sklearn.metrics import mean_squared_error\n",
        "def reg_models(X_train, y_train, X_test, y_test):\n",
        "  alphas = [2.2, 2, 1.5, 1.3, 1.2, 1.1, 1, 0.3, 0.1]\n",
        "  losses = []\n",
        "  for alpha in alphas:\n",
        "      # Write (4 lines): create a Lasso regressor with the alpha value.\n",
        "      # Fit it to the training set, then get the prediction of the validation set (x_val).\n",
        "      # calculate the mean squared error loss, then append it to the losses array\n",
        "      y_pred = Lasso(alpha=alpha).fit(X_train, y_train).predict(X_test)\n",
        "      mse = mean_squared_error(y_test,y_pred)\n",
        "      losses.append(mse)\n",
        "  plt.plot(alphas, losses)\n",
        "  plt.title(\"Lasso alpha value selection\")\n",
        "  plt.xlabel(\"alpha\")\n",
        "  plt.ylabel(\"Mean squared error\")\n",
        "  plt.show()\n",
        "\n",
        "  lasso_best_alpha = alphas[np.argmin(losses)]\n",
        "  print(\"Best value of lasso alpha:\", lasso_best_alpha)\n",
        "  print('------------------------------------------\\n')\n",
        "\n",
        "  losses = []\n",
        "  for alpha in alphas:\n",
        "      # Write (4 lines): create a Lasso regressor with the alpha value.\n",
        "      # Fit it to the training set, then get the prediction of the validation set (x_val).\n",
        "      # calculate the mean squared error loss, then append it to the losses array\n",
        "      y_pred = Ridge(alpha=alpha).fit(X_train, y_train).predict(X_test)\n",
        "      mse = mean_squared_error(y_test,y_pred)\n",
        "      losses.append(mse)\n",
        "  plt.plot(alphas, losses)\n",
        "  plt.title(\"Lasso alpha value selection\")\n",
        "  plt.xlabel(\"alpha\")\n",
        "  plt.ylabel(\"Mean squared error\")\n",
        "  plt.show()\n",
        "\n",
        "  ridge_best_alpha = alphas[np.argmin(losses)]\n",
        "  print(\"Best value of ridge alpha:\", ridge_best_alpha)\n",
        "  print('-----------------------------------------\\n')\n",
        "\n",
        "  lin = LinearRegression()\n",
        "  lin.fit(X_train, y_train)\n",
        "  y_pred = lin.predict(X_test)\n",
        "  print('Linear Regression:')\n",
        "  print('Mean Absolute Error:', metrics.mean_absolute_error(y_test, y_pred))\n",
        "  print('Mean Squared Error:', metrics.mean_squared_error(y_test, y_pred))\n",
        "  print('Root Mean Squared Error:', np.sqrt(metrics.mean_squared_error(y_test, y_pred)))\n",
        "  print('--------------------------------------------------------\\n')\n",
        "\n",
        "  poly_reg = PolynomialFeatures(degree=2)\n",
        "  X_poly = poly_reg.fit_transform(X_train)\n",
        "  pol_reg = LinearRegression()\n",
        "  pol_reg.fit(X_poly, y_train)\n",
        "  y_pred = pol_reg.predict(poly_reg.fit_transform(X_test))\n",
        "  print('Polynomical Regression:')\n",
        "  print('Mean Absolute Error:', metrics.mean_absolute_error(test_reg_Y, y_pred))\n",
        "  print('Mean Squared Error:', metrics.mean_squared_error(test_reg_Y, y_pred))\n",
        "  print('Root Mean Squared Error:', np.sqrt(metrics.mean_squared_error(test_reg_Y, y_pred)))\n",
        "  print('--------------------------------------------------------\\n')\n",
        "\n",
        "  # log = LogisticRegression(random_state=0)\n",
        "  # log.fit(X_train, y_train)\n",
        "  # y_pred = log.predict(X_test)\n",
        "  # print('Logistic Regression:')\n",
        "  # print('Mean Absolute Error:', metrics.mean_absolute_error(y_test, y_pred))\n",
        "  # print('Mean Squared Error:', metrics.mean_squared_error(y_test, y_pred))\n",
        "  # print('Root Mean Squared Error:', np.sqrt(metrics.mean_squared_error(y_test, y_pred)))\n",
        "  # print('--------------------------------------------------------\\n')\n",
        "\n",
        "\n",
        "  las = Lasso(alpha=lasso_best_alpha)\n",
        "  las.fit(X_train, y_train)\n",
        "  y_pred = las.predict(X_test)\n",
        "  print('Lasso with alpha = ', lasso_best_alpha)\n",
        "  print('Mean Absolute Error:', metrics.mean_absolute_error(y_test, y_pred))\n",
        "  print('Mean Squared Error:', metrics.mean_squared_error(y_test, y_pred))\n",
        "  print('Root Mean Squared Error:', np.sqrt(metrics.mean_squared_error(y_test, y_pred)))\n",
        "  print('--------------------------------------------------------\\n')\n",
        "  \n",
        "  rid = Ridge(alpha=ridge_best_alpha)\n",
        "  rid.fit(X_train, y_train)\n",
        "  y_pred = rid.predict(X_test)\n",
        "  print('Ridge with alpha = ', ridge_best_alpha)\n",
        "  print('Mean Absolute Error:', metrics.mean_absolute_error(y_test, y_pred))\n",
        "  print('Mean Squared Error:', metrics.mean_squared_error(y_test, y_pred))\n",
        "  print('Root Mean Squared Error:', np.sqrt(metrics.mean_squared_error(y_test, y_pred)))\n",
        "  print('--------------------------------------------------------\\n')"
      ],
      "metadata": {
        "id": "nAPvBdTCZaHo"
      },
      "execution_count": 42,
      "outputs": []
    },
    {
      "cell_type": "code",
      "source": [
        "reg_models(train_reg_X, train_reg_Y, test_reg_X, test_reg_Y)"
      ],
      "metadata": {
        "colab": {
          "base_uri": "https://localhost:8080/",
          "height": 1000
        },
        "id": "NSI1Wr1adLYP",
        "outputId": "4077d17e-f2fb-444a-d63b-bb5544dcbf79"
      },
      "execution_count": 28,
      "outputs": [
        {
          "output_type": "display_data",
          "data": {
            "text/plain": [
              "<Figure size 432x288 with 1 Axes>"
            ],
            "image/png": "[encoded data removed]"
          },
          "metadata": {
            "needs_background": "light"
          }
        },
        {
          "output_type": "stream",
          "name": "stdout",
          "text": [
            "Best value of lasso alpha: 0.1\n",
            "------------------------------------------\n",
            "\n"
          ]
        },
        {
          "output_type": "display_data",
          "data": {
            "text/plain": [
              "<Figure size 432x288 with 1 Axes>"
            ],
            "image/png": "[encoded data removed]"
          },
          "metadata": {
            "needs_background": "light"
          }
        },
        {
          "output_type": "stream",
          "name": "stdout",
          "text": [
            "Best value of ridge alpha: 0.1\n",
            "-----------------------------------------\n",
            "\n",
            "Linear Regression:\n",
            "Mean Absolute Error: 4489.81184040537\n",
            "Mean Squared Error: 33699329.25709374\n",
            "Root Mean Squared Error: 5805.112338025316\n",
            "--------------------------------------------------------\n",
            "\n",
            "Polynomical Regression:\n",
            "Mean Absolute Error: 4365.605366185704\n",
            "Mean Squared Error: 32911477.48218962\n",
            "Root Mean Squared Error: 5736.8525762991\n",
            "--------------------------------------------------------\n",
            "\n",
            "Lasso with alpha =  0.1\n",
            "Mean Absolute Error: 4493.519556760465\n",
            "Mean Squared Error: 33722060.30884501\n",
            "Root Mean Squared Error: 5807.06985568841\n",
            "--------------------------------------------------------\n",
            "\n",
            "Ridge with alpha =  0.1\n",
            "Mean Absolute Error: 4491.248184920418\n",
            "Mean Squared Error: 33707014.68637113\n",
            "Root Mean Squared Error: 5805.774253824475\n",
            "--------------------------------------------------------\n",
            "\n"
          ]
        }
      ]
    },
    {
      "cell_type": "code",
      "source": [
        "def class_models(X_train, y_train, X_test, y_test):\n",
        "  penalties = ['l1', 'l2']\n",
        "  for p in penalties:\n",
        "    log = LogisticRegression(penalty=p, random_state=0, solver='liblinear')\n",
        "    log.fit(X_train, y_train)\n",
        "    thresholds = [0.1,0.2,0.3,0.4,0.5,0.6,0.7,0.8,0.9]\n",
        "    pred_proba = log.predict_proba(X_test)\n",
        "    results = [[],[],[]]\n",
        "    print('Logistic Regression:')\n",
        "    for i in thresholds:\n",
        "      y_test_pred_thr = np.where(pred_proba[:, 1] > i, 1, 0)\n",
        "      results[0].append(metrics.accuracy_score(y_test, y_test_pred_thr))\n",
        "      results[1].append(metrics.precision_score(y_test, y_test_pred_thr))\n",
        "      results[2].append(metrics.recall_score(y_test, y_test_pred_thr))\n",
        "\n",
        "        \n",
        "    plt.plot(thresholds, results[0], label = 'accuracy')   \n",
        "    plt.plot(thresholds, results[1], label = 'precision')   \n",
        "    plt.plot(thresholds, results[2], label = 'recall')\n",
        "    plt.title('Threshold Selection')\n",
        "    plt.xlabel('threshold')\n",
        "    plt.ylabel('score')\n",
        "    plt.legend()\n",
        "    plt.grid()\n",
        "    plt.show()\n",
        "    y_pred = log.predict(X_test)\n",
        "    print('Logistic Regression, regularization: ', p)\n",
        "    print('Accuracy: ', metrics.accuracy_score(y_test, y_pred))\n",
        "    print('Precision: ', metrics.precision_score(y_test, y_pred))\n",
        "    print('Recall: ', metrics.recall_score(y_test, y_pred))\n",
        "    print('F1-score: ', metrics.f1_score(y_test, y_pred))\n",
        "    print('F1-score weighted: ', metrics.f1_score(y_test, y_pred, average='weighted'))\n",
        "    print('-----------------------------------\\n')"
      ],
      "metadata": {
        "id": "TEDrqBOUkj3I"
      },
      "execution_count": 29,
      "outputs": []
    },
    {
      "cell_type": "code",
      "source": [
        "class_models(train_class_X, train_class_Y, test_class_X, test_class_Y)"
      ],
      "metadata": {
        "colab": {
          "base_uri": "https://localhost:8080/",
          "height": 895
        },
        "id": "Sr917quKCzzK",
        "outputId": "ab26d225-122a-47c4-8d36-5275cafb079a"
      },
      "execution_count": 30,
      "outputs": [
        {
          "output_type": "stream",
          "name": "stdout",
          "text": [
            "Logistic Regression:\n"
          ]
        },
        {
          "output_type": "display_data",
          "data": {
            "text/plain": [
              "<Figure size 432x288 with 1 Axes>"
            ],
            "image/png": "[encoded data removed]"
          },
          "metadata": {
            "needs_background": "light"
          }
        },
        {
          "output_type": "stream",
          "name": "stdout",
          "text": [
            "Logistic Regression, regularization:  l1\n",
            "Accuracy:  0.9383446362009228\n",
            "Precision:  0.6449119793902963\n",
            "Recall:  0.09570536510768446\n",
            "F1-score:  0.16667591410974864\n",
            "F1-score weighted:  0.9163624667252146\n",
            "-----------------------------------\n",
            "\n",
            "Logistic Regression:\n"
          ]
        },
        {
          "output_type": "display_data",
          "data": {
            "text/plain": [
              "<Figure size 432x288 with 1 Axes>"
            ],
            "image/png": "[encoded data removed]"
          },
          "metadata": {
            "needs_background": "light"
          }
        },
        {
          "output_type": "stream",
          "name": "stdout",
          "text": [
            "Logistic Regression, regularization:  l2\n",
            "Accuracy:  0.9380860112645528\n",
            "Precision:  0.68\n",
            "Recall:  0.07365872307888365\n",
            "F1-score:  0.13291939749338852\n",
            "F1-score weighted:  0.9141022957248662\n",
            "-----------------------------------\n",
            "\n"
          ]
        }
      ]
    },
    {
      "cell_type": "markdown",
      "source": [
        "#Deleting Outliers"
      ],
      "metadata": {
        "id": "DtO5Oc91iIvA"
      }
    },
    {
      "cell_type": "code",
      "source": [
        "def remove_outliers(df, columns):\n",
        "\n",
        "  print(\"Old Shape: \", df.shape)\n",
        "\n",
        "  for col in columns:\n",
        "    ''' Detection '''\n",
        "    # IQR\n",
        "    Q1 = np.percentile(df[col], 25, interpolation = 'midpoint')\n",
        "    Q3 = np.percentile(df[col], 75, interpolation = 'midpoint')\n",
        "    IQR = Q3 - Q1\n",
        "\n",
        "    # Upper bound\n",
        "    df = df.loc[df[col] < (Q3 + 1.5 * IQR)]\n",
        "    # Lower bound\n",
        "    df = df.loc[df[col] > (Q1 - 1.5 * IQR)]\n",
        "\n",
        "    ''' Removing the Outliers '''\n",
        "\n",
        "  print(\"New Shape: \", df.shape)\n",
        "  return df"
      ],
      "metadata": {
        "id": "ZJouUH7liLk-"
      },
      "execution_count": 31,
      "outputs": []
    },
    {
      "cell_type": "code",
      "source": [
        "train_class_Y.value_counts()"
      ],
      "metadata": {
        "colab": {
          "base_uri": "https://localhost:8080/"
        },
        "id": "wSWi-OQ19SvA",
        "outputId": "5ab7a512-c359-469a-af27-ad7c30ea8dd7"
      },
      "execution_count": 32,
      "outputs": [
        {
          "output_type": "execute_result",
          "data": {
            "text/plain": [
              "0    378738\n",
              "1     27834\n",
              "Name: stream_quality, dtype: int64"
            ]
          },
          "metadata": {},
          "execution_count": 32
        }
      ]
    },
    {
      "cell_type": "code",
      "source": [
        "test_class_Y.value_counts()"
      ],
      "metadata": {
        "colab": {
          "base_uri": "https://localhost:8080/"
        },
        "id": "979WzTLi9izO",
        "outputId": "f93b5e14-88f2-446c-ce09-ddd4dfe29127"
      },
      "execution_count": 33,
      "outputs": [
        {
          "output_type": "execute_result",
          "data": {
            "text/plain": [
              "0    227902\n",
              "1     15694\n",
              "Name: stream_quality, dtype: int64"
            ]
          },
          "metadata": {},
          "execution_count": 33
        }
      ]
    },
    {
      "cell_type": "code",
      "source": [
        "train_reg_X['target'] = train_reg_Y\n",
        "train_class_X['target'] = train_class_Y"
      ],
      "metadata": {
        "id": "0j-ZYM2OmpvM"
      },
      "execution_count": 34,
      "outputs": []
    },
    {
      "cell_type": "code",
      "source": [
        "train_reg_X = remove_outliers(train_reg_X, train_reg_X.columns)\n",
        "train_class_X = remove_outliers(train_class_X, ['fps_mean', 'fps_std','rtt_mean','rtt_std'])"
      ],
      "metadata": {
        "colab": {
          "base_uri": "https://localhost:8080/"
        },
        "id": "Hlmtdj1anbX4",
        "outputId": "5d91e25e-1400-4e69-99f6-a110a00e6830"
      },
      "execution_count": 35,
      "outputs": [
        {
          "output_type": "stream",
          "name": "stdout",
          "text": [
            "Old Shape:  (379021, 5)\n",
            "New Shape:  (271374, 5)\n",
            "Old Shape:  (406572, 11)\n",
            "New Shape:  (287681, 11)\n"
          ]
        }
      ]
    },
    {
      "cell_type": "markdown",
      "source": [
        "#Balancing"
      ],
      "metadata": {
        "id": "m_dH9Ai87U5m"
      }
    },
    {
      "cell_type": "code",
      "source": [
        "train_class_1 = train_class_X[train_class_X['target'] == 1]\n",
        "size = train_class_1.shape[0]\n",
        "train_class_0 = train_class_X[train_class_X['target'] == 0][:size]"
      ],
      "metadata": {
        "id": "T9dyo9kv0Hh_"
      },
      "execution_count": 36,
      "outputs": []
    },
    {
      "cell_type": "code",
      "source": [
        "train_class = pd.concat([train_class_0, train_class_1], axis=0)\n",
        "train_class.shape"
      ],
      "metadata": {
        "colab": {
          "base_uri": "https://localhost:8080/"
        },
        "id": "g1A8IYUIky8g",
        "outputId": "3c6c29aa-cd1a-4a49-8f28-f184ff6c9838"
      },
      "execution_count": 37,
      "outputs": [
        {
          "output_type": "execute_result",
          "data": {
            "text/plain": [
              "(19636, 11)"
            ]
          },
          "metadata": {},
          "execution_count": 37
        }
      ]
    },
    {
      "cell_type": "code",
      "source": [
        "train_class_Y = train_class['target']\n",
        "train_class_X = train_class.drop('target', axis=1)"
      ],
      "metadata": {
        "id": "E8bB_UtqlU4G"
      },
      "execution_count": 38,
      "outputs": []
    },
    {
      "cell_type": "code",
      "source": [
        "train_reg_Y = train_reg_X['target']\n",
        "train_reg_X = train_reg_X.drop('target', axis=1)"
      ],
      "metadata": {
        "id": "LX2yjIqZloDQ"
      },
      "execution_count": 39,
      "outputs": []
    },
    {
      "cell_type": "markdown",
      "source": [
        "#Learning 2"
      ],
      "metadata": {
        "id": "Xi5LRmbV_0hr"
      }
    },
    {
      "cell_type": "code",
      "source": [
        "reg_models(train_reg_X, train_reg_Y, test_reg_X, test_reg_Y)"
      ],
      "metadata": {
        "colab": {
          "base_uri": "https://localhost:8080/",
          "height": 1000
        },
        "id": "X7nQ61X3x4Y2",
        "outputId": "147bb022-a619-4120-de00-18139adf336f"
      },
      "execution_count": 43,
      "outputs": [
        {
          "output_type": "display_data",
          "data": {
            "text/plain": [
              "<Figure size 432x288 with 1 Axes>"
            ],
            "image/png": "[encoded data removed]"
          },
          "metadata": {
            "needs_background": "light"
          }
        },
        {
          "output_type": "stream",
          "name": "stdout",
          "text": [
            "Best value of lasso alpha: 1.1\n",
            "------------------------------------------\n",
            "\n"
          ]
        },
        {
          "output_type": "display_data",
          "data": {
            "text/plain": [
              "<Figure size 432x288 with 1 Axes>"
            ],
            "image/png": "[encoded data removed]"
          },
          "metadata": {
            "needs_background": "light"
          }
        },
        {
          "output_type": "stream",
          "name": "stdout",
          "text": [
            "Best value of ridge alpha: 2.2\n",
            "-----------------------------------------\n",
            "\n",
            "Linear Regression:\n",
            "Mean Absolute Error: 4643.642142026443\n",
            "Mean Squared Error: 59262194.0082594\n",
            "Root Mean Squared Error: 7698.194204374127\n",
            "--------------------------------------------------------\n",
            "\n",
            "Polynomical Regression:\n",
            "Mean Absolute Error: 549002.2692558884\n",
            "Mean Squared Error: 206685301716277.6\n",
            "Root Mean Squared Error: 14376553.888755038\n",
            "--------------------------------------------------------\n",
            "\n",
            "Lasso with alpha =  1.1\n",
            "Mean Absolute Error: 4439.841562580113\n",
            "Mean Squared Error: 33810735.33771148\n",
            "Root Mean Squared Error: 5814.699935311493\n",
            "--------------------------------------------------------\n",
            "\n",
            "Ridge with alpha =  2.2\n",
            "Mean Absolute Error: 4450.755255057529\n",
            "Mean Squared Error: 33803938.922728375\n",
            "Root Mean Squared Error: 5814.115489283678\n",
            "--------------------------------------------------------\n",
            "\n"
          ]
        }
      ]
    },
    {
      "cell_type": "code",
      "source": [
        "train_class_Y.value_counts()"
      ],
      "metadata": {
        "colab": {
          "base_uri": "https://localhost:8080/"
        },
        "id": "1y9KltV28oN_",
        "outputId": "6f0862b5-47c5-4c1c-ca9e-1ce673eced57"
      },
      "execution_count": 44,
      "outputs": [
        {
          "output_type": "execute_result",
          "data": {
            "text/plain": [
              "0    9818\n",
              "1    9818\n",
              "Name: target, dtype: int64"
            ]
          },
          "metadata": {},
          "execution_count": 44
        }
      ]
    },
    {
      "cell_type": "code",
      "source": [
        "class_models(train_class_X, train_class_Y, test_class_X, test_class_Y)"
      ],
      "metadata": {
        "colab": {
          "base_uri": "https://localhost:8080/",
          "height": 895
        },
        "id": "EGkwddjtzULj",
        "outputId": "0555ef55-b980-4b2c-a344-69ae34b3b584"
      },
      "execution_count": 45,
      "outputs": [
        {
          "output_type": "stream",
          "name": "stdout",
          "text": [
            "Logistic Regression:\n"
          ]
        },
        {
          "output_type": "display_data",
          "data": {
            "text/plain": [
              "<Figure size 432x288 with 1 Axes>"
            ],
            "image/png": "[encoded data removed]"
          },
          "metadata": {
            "needs_background": "light"
          }
        },
        {
          "output_type": "stream",
          "name": "stdout",
          "text": [
            "Logistic Regression, regularization:  l1\n",
            "Accuracy:  0.5631989031018572\n",
            "Precision:  0.09437910834861155\n",
            "Recall:  0.6724225818784249\n",
            "F1-score:  0.16552557074402593\n",
            "F1-score weighted:  0.6694723671787447\n",
            "-----------------------------------\n",
            "\n",
            "Logistic Regression:\n"
          ]
        },
        {
          "output_type": "display_data",
          "data": {
            "text/plain": [
              "<Figure size 432x288 with 1 Axes>"
            ],
            "image/png": "[encoded data removed]"
          },
          "metadata": {
            "needs_background": "light"
          }
        },
        {
          "output_type": "stream",
          "name": "stdout",
          "text": [
            "Logistic Regression, regularization:  l2\n",
            "Accuracy:  0.5902847337394703\n",
            "Precision:  0.0949229924581732\n",
            "Recall:  0.6279469861093412\n",
            "F1-score:  0.16491653767309544\n",
            "F1-score weighted:  0.6922395011433096\n",
            "-----------------------------------\n",
            "\n"
          ]
        }
      ]
    }
  ]
}